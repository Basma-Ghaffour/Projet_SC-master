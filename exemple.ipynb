{
 "cells": [
  {
   "attachments": {},
   "cell_type": "markdown",
   "metadata": {},
   "source": [
    "# Exemple"
   ]
  },
  {
   "attachments": {},
   "cell_type": "markdown",
   "metadata": {},
   "source": [
    "## Enoncé:"
   ]
  },
  {
   "attachments": {},
   "cell_type": "markdown",
   "metadata": {},
   "source": [
    "Une companie de travaux public doit décider du déploiement de personnel sur un certain site. Le nombre minimal de personnes présentes chaque mois sur le site est de\n",
    "- Mars: 4\n",
    "- Avril: 6\n",
    "- Mai: 7\n",
    "- Juin: 4\n",
    "- Juillet: 6\n",
    "- Aout: 2\n",
    "\n",
    "Il y a déjà 3 personnes présent en Janvier. Il doit y en avoir exactement 3 en septembre."
   ]
  },
  {
   "cell_type": "code",
   "execution_count": 1,
   "metadata": {},
   "outputs": [],
   "source": [
    "from Final.solution import solution"
   ]
  },
  {
   "cell_type": "code",
   "execution_count": 2,
   "metadata": {},
   "outputs": [],
   "source": [
    "Liste=[(\"Janvier\",3),(\"Février\",0),(\"Mars\",4),(\"Avril\",6),(\"Mai\",7),(\"Juin\",4),(\"Juillet\",6),(\"Aout\",2),(\"Septembre\",3)]"
   ]
  },
  {
   "cell_type": "code",
   "execution_count": 3,
   "metadata": {},
   "outputs": [
    {
     "name": "stdout",
     "output_type": "stream",
     "text": [
      "Pour le mois de Janvier on à comme condition d'avoir exactement 3 personne.\n",
      "On doit déployer 3 personnes pour le mois de Févrierle coût associé à ce mois est de 0 euros.\n",
      "On doit déployer 4 personnes pour le mois de Marsle coût associé à ce mois est de 160 euros.\n",
      "On doit déployer 5 personnes pour le mois de Avrille coût associé à ce mois est de 360 euros.\n",
      "On doit déployer 6 personnes pour le mois de Maile coût associé à ce mois est de 360 euros.\n",
      "On doit déployer 5 personnes pour le mois de Juinle coût associé à ce mois est de 360 euros.\n",
      "On doit déployer 5 personnes pour le mois de Juilletle coût associé à ce mois est de 200 euros.\n",
      "On doit déployer 4 personnes pour le mois de Aoutle coût associé à ce mois est de 560 euros.\n",
      "Pour le mois de Septembre, on doit avoir exactement 3personnes et le coût associer à ce mois est de 160 euros.\n",
      "Au final en minimisant les coûts on aura un coût total de 2160 euros pour tous les mois.\n"
     ]
    }
   ],
   "source": [
    "solution(Liste)"
   ]
  }
 ],
 "metadata": {
  "kernelspec": {
   "display_name": "Python 3",
   "language": "python",
   "name": "python3"
  },
  "language_info": {
   "codemirror_mode": {
    "name": "ipython",
    "version": 3
   },
   "file_extension": ".py",
   "mimetype": "text/x-python",
   "name": "python",
   "nbconvert_exporter": "python",
   "pygments_lexer": "ipython3",
   "version": "3.9.16"
  },
  "orig_nbformat": 4
 },
 "nbformat": 4,
 "nbformat_minor": 2
}
